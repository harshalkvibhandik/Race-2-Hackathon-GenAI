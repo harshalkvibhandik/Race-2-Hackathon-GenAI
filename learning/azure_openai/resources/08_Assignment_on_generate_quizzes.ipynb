{
 "cells": [
  {
   "cell_type": "code",
   "execution_count": null,
   "id": "75a52f5b",
   "metadata": {},
   "outputs": [],
   "source": [
    "import os\n",
    "from openai import AzureOpenAI  # class\n",
    "\n",
    "client = AzureOpenAI(\n",
    "    azure_endpoint=\"https://whisperdemoproject.openai.azure.com/\",  # till .com is enough\n",
    "    api_version=\"2023-09-01-preview\",  # version should be recent to work with Whisper\n",
    "    api_key=\"22cccbe4712e4a248dbf4865f85456a6\"  # fetching openai key from the system environment variable\n",
    ")\n",
    "\n",
    "audio_file = open(\"aws_lambda.mp3\", \"rb\")\n",
    "\n",
    "audio_response = client.audio.translations.create(\n",
    "    model=\"audio-west-europe\",\n",
    "    file=audio_file,\n",
    "    response_format=\"text\",  # if we do not mention the response format then the response will be of type object\n",
    ")\n",
    "\n",
    "response = client.chat.completions.create(\n",
    "    model=\"text-west-europe\",  # give model name which you have created\n",
    "    messages=[{\"role\": \"user\", \"content\": f\"Generate 5 Multiple Choice Questions with Answers using following \"\n",
    "                                          f\"information: {audio_response}\"}],\n",
    ")\n",
    "\n",
    "print(audio_response)\n",
    "print(response.choices[0].message.content)"
   ]
  }
 ],
 "metadata": {
  "kernelspec": {
   "display_name": "Python 3 (ipykernel)",
   "language": "python",
   "name": "python3"
  },
  "language_info": {
   "codemirror_mode": {
    "name": "ipython",
    "version": 3
   },
   "file_extension": ".py",
   "mimetype": "text/x-python",
   "name": "python",
   "nbconvert_exporter": "python",
   "pygments_lexer": "ipython3",
   "version": "3.9.13"
  }
 },
 "nbformat": 4,
 "nbformat_minor": 5
}
