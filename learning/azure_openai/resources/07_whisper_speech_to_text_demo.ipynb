{
 "cells": [
  {
   "cell_type": "code",
   "execution_count": null,
   "id": "993b4a16",
   "metadata": {},
   "outputs": [],
   "source": [
    "import os\n",
    "from openai import AzureOpenAI\n",
    "\n",
    "client = AzureOpenAI(\n",
    "    azure_endpoint=\"https://hsbc-aiml-team-resource.openai.azure.com/\",\n",
    "    api_version=\"2023-07-01-preview\",\n",
    "    api_key=os.environ[\"OPENAI_API_KEY\"]\n",
    ")\n",
    "\n",
    "audio_file = open(\"sample_english.m4a\", \"rb\")\n",
    "\n",
    "response = openai.Audio.transcribe(\n",
    "    model=\"whisper-1\",  \n",
    "    file=audio_file,\n",
    "    language=\"en\",\n",
    "    response_format=\"text\"\n",
    ")\n",
    "\n",
    "print(response)"
   ]
  },
  {
   "cell_type": "code",
   "execution_count": null,
   "id": "05f70e72",
   "metadata": {},
   "outputs": [],
   "source": [
    "import os\n",
    "from openai import AzureOpenAI\n",
    "\n",
    "client = AzureOpenAI(\n",
    "    azure_endpoint=\"https://hsbc-aiml-team-resource.openai.azure.com/\",\n",
    "    api_version=\"2023-07-01-preview\",\n",
    "    api_key=os.environ[\"OPENAI_API_KEY\"]\n",
    ")\n",
    "\n",
    "audio_file = open(\"sample_english.m4a\", \"rb\")\n",
    "\n",
    "response = client.audio.transcriptions.create(\n",
    "    model=\"whisper-1\",  \n",
    "    file=audio_file,\n",
    "    response_format=\"text\"\n",
    ")\n",
    "\n",
    "print(response)"
   ]
  },
  {
   "cell_type": "code",
   "execution_count": null,
   "id": "1aaf1bbb",
   "metadata": {},
   "outputs": [],
   "source": [
    "import os\n",
    "from openai import AzureOpenAI\n",
    "\n",
    "client = AzureOpenAI(\n",
    "    azure_endpoint=\"https://hsbc-aiml-team-resource.openai.azure.com/\",\n",
    "    api_version=\"2023-07-01-preview\",\n",
    "    api_key=os.environ[\"OPENAI_API_KEY\"]\n",
    ")\n",
    "\n",
    "audio_file = open(\"sample_french.mp3\", \"rb\")\n",
    "\n",
    "response = client.audio.translations.create(\n",
    "    model=\"whisper-1\",  \n",
    "    file=audio_file,\n",
    "    language=\"en\",\n",
    "    response_format=\"text\"\n",
    ")\n",
    "\n",
    "print(response)"
   ]
  }
 ],
 "metadata": {
  "kernelspec": {
   "display_name": "Python 3 (ipykernel)",
   "language": "python",
   "name": "python3"
  },
  "language_info": {
   "codemirror_mode": {
    "name": "ipython",
    "version": 3
   },
   "file_extension": ".py",
   "mimetype": "text/x-python",
   "name": "python",
   "nbconvert_exporter": "python",
   "pygments_lexer": "ipython3",
   "version": "3.9.13"
  }
 },
 "nbformat": 4,
 "nbformat_minor": 5
}
